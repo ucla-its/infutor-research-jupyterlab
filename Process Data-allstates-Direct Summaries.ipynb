{
 "cells": [
  {
   "cell_type": "code",
   "execution_count": 9,
   "metadata": {},
   "outputs": [],
   "source": [
    "import numpy as np\n",
    "import pandas as pd"
   ]
  },
  {
   "cell_type": "code",
   "execution_count": 10,
   "metadata": {},
   "outputs": [],
   "source": [
    "usecols_all_states = ['z4type', 'effdate']\n",
    "for i in range(2, 11):\n",
    "    usecols_all_states.append(f'z4type{i}')\n",
    "    usecols_all_states.append(f'effdate{i}')\n",
    "for i in range(1, 11):\n",
    "    usecols_all_states.append(f'fips{i}')\n",
    "\n",
    "dtype_all_states = {\n",
    "    'z4type': 'category',\n",
    "    'effdate': 'float',\n",
    "    'fips1': 'object',\n",
    "}\n",
    "for i in range(2, 11):\n",
    "    dtype_all_states[f'z4type{i}'] = 'category'\n",
    "    dtype_all_states[f'effdate{i}'] = 'float'\n",
    "    dtype_all_states[f'fips{i}'] = 'object'\n",
    "\n",
    "\n",
    "df_all_states = pd.read_csv(\n",
    "    \"data/all_states.csv\", \n",
    "    usecols=usecols_all_states,\n",
    "    dtype=dtype_all_states\n",
    ")"
   ]
  },
  {
   "cell_type": "code",
   "execution_count": 11,
   "metadata": {},
   "outputs": [],
   "source": [
    "list_dict_col_names = [\n",
    "    {\n",
    "        'z4type': 'z4type',\n",
    "        'effdate': 'effdate',\n",
    "        'fips1': 'fips',\n",
    "    }\n",
    "]\n",
    "for i in range(2, 11):\n",
    "    list_dict_col_names.append(\n",
    "        {\n",
    "            f'z4type{i}': 'z4type',\n",
    "            f'effdate{i}': 'effdate',\n",
    "            f'fips{i}': 'fips',\n",
    "        }\n",
    "    )\n",
    "\n",
    "\n",
    "list_df_all_areas = [\n",
    "    df_all_states[list_dict_col_names[i].keys()].rename(\n",
    "        columns=list_dict_col_names[i]\n",
    "    ) for i in range(10)\n",
    "]\n",
    "\n",
    "df_all_areas = (\n",
    "    pd.concat(list_df_all_areas)\n",
    "        .sort_values('effdate', kind='stable')\n",
    "        .sort_index(kind='stable')\n",
    ")"
   ]
  },
  {
   "cell_type": "code",
   "execution_count": 48,
   "metadata": {},
   "outputs": [
    {
     "name": "stdout",
     "output_type": "stream",
     "text": [
      "MultiIndex([('S', 201703.0, '06037401312'),\n",
      "            ('H', 201703.0,           nan),\n",
      "            (nan,      nan,           nan),\n",
      "            (nan,      nan,           nan),\n",
      "            (nan,      nan,           nan),\n",
      "            (nan,      nan,           nan),\n",
      "            (nan,      nan,           nan),\n",
      "            (nan,      nan,           nan),\n",
      "            (nan,      nan,           nan),\n",
      "            (nan,      nan,           nan),\n",
      "            ...\n",
      "            ('S', 201702.0, '06059110110'),\n",
      "            ('S', 201702.0, '06059110111'),\n",
      "            (nan,      nan,           nan),\n",
      "            (nan,      nan,           nan),\n",
      "            (nan,      nan,           nan),\n",
      "            (nan,      nan,           nan),\n",
      "            (nan,      nan,           nan),\n",
      "            (nan,      nan,           nan),\n",
      "            (nan,      nan,           nan),\n",
      "            (nan,      nan,           nan)],\n",
      "           names=['z4type', 'effdate', 'fips'], length=50000)\n"
     ]
    },
    {
     "data": {
      "text/plain": [
       "(4, 98, 2761)"
      ]
     },
     "execution_count": 48,
     "metadata": {},
     "output_type": "execute_result"
    }
   ],
   "source": [
    "list_df_all_moves_dropna = [\n",
    "    df.dropna(subset='effdate') for df in list_df_all_areas\n",
    "]\n",
    "\n",
    "df_all_moves2 = pd.concat(list_df_all_moves_dropna)\n",
    "\n",
    "df_all_moves2 = df_all_moves2.set_index([df_all_moves2.index, 'effdate'])\n",
    "\n",
    "mi_all_moves = pd.MultiIndex.from_frame(df_all_areas)\n",
    "\n",
    "print(mi_all_moves)\n",
    "\n",
    "mi_all_moves.levshape"
   ]
  },
  {
   "cell_type": "code",
   "execution_count": 25,
   "metadata": {},
   "outputs": [],
   "source": [
    "gr_all_areas_effdate = df_all_areas.groupby([df_all_areas.index, 'effdate'])\n",
    "\n",
    "\n",
    "z4types = ('H', 'S')\n",
    "\n",
    "def reduce_effdate(group):\n",
    "    filtered = group[group['z4type'].isin(z4types)]\n",
    "    return filtered.iloc[0]['fips'] if not filtered.empty else \"\"\n",
    "\n",
    "\n",
    "df_filtered_areas = gr_all_areas_effdate.apply(reduce_effdate).to_frame()\n",
    "df_filtered_areas = df_filtered_areas.rename(columns={0: 'destfips'})\n",
    "df_filtered_areas = df_filtered_areas.reset_index('effdate')"
   ]
  },
  {
   "cell_type": "code",
   "execution_count": 26,
   "metadata": {},
   "outputs": [],
   "source": [
    "df_filtered_areas['origfips'] = df_filtered_areas.groupby(df_filtered_areas.index)['destfips'].shift(fill_value=\"first record\")"
   ]
  }
 ],
 "metadata": {
  "kernelspec": {
   "display_name": "Python 3.10.5 ('infutor-research-jupyterlab': venv)",
   "language": "python",
   "name": "python3"
  },
  "language_info": {
   "codemirror_mode": {
    "name": "ipython",
    "version": 3
   },
   "file_extension": ".py",
   "mimetype": "text/x-python",
   "name": "python",
   "nbconvert_exporter": "python",
   "pygments_lexer": "ipython3",
   "version": "3.10.5"
  },
  "orig_nbformat": 4,
  "vscode": {
   "interpreter": {
    "hash": "b170992dff1a2d7a7d34a8e195c66b869f5a2c2d367c7625363ea5e606f09977"
   }
  }
 },
 "nbformat": 4,
 "nbformat_minor": 2
}
