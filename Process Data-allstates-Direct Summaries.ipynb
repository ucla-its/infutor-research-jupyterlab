{
 "cells": [
  {
   "cell_type": "code",
   "execution_count": 9,
   "metadata": {},
   "outputs": [],
   "source": [
    "import numpy as np\n",
    "import pandas as pd"
   ]
  },
  {
   "cell_type": "code",
   "execution_count": 10,
   "metadata": {},
   "outputs": [],
   "source": [
    "usecols_all_states = ['z4type', 'effdate']\n",
    "for i in range(2, 11):\n",
    "    usecols_all_states.append(f'z4type{i}')\n",
    "    usecols_all_states.append(f'effdate{i}')\n",
    "for i in range(1, 11):\n",
    "    usecols_all_states.append(f'fips{i}')\n",
    "\n",
    "dtype_all_states = {\n",
    "    'z4type': 'category',\n",
    "    'effdate': 'float',\n",
    "    'fips1': 'object',\n",
    "}\n",
    "for i in range(2, 11):\n",
    "    dtype_all_states[f'z4type{i}'] = 'category'\n",
    "    dtype_all_states[f'effdate{i}'] = 'float'\n",
    "    dtype_all_states[f'fips{i}'] = 'object'\n",
    "\n",
    "\n",
    "df_all_states = pd.read_csv(\n",
    "    \"data/all_states.csv\", \n",
    "    usecols=usecols_all_states,\n",
    "    dtype=dtype_all_states\n",
    ")"
   ]
  },
  {
   "cell_type": "code",
   "execution_count": 11,
   "metadata": {},
   "outputs": [],
   "source": [
    "list_dict_col_names = [\n",
    "    {\n",
    "        'z4type': 'z4type',\n",
    "        'effdate': 'effdate',\n",
    "        'fips1': 'fips',\n",
    "    }\n",
    "]\n",
    "for i in range(2, 11):\n",
    "    list_dict_col_names.append(\n",
    "        {\n",
    "            f'z4type{i}': 'z4type',\n",
    "            f'effdate{i}': 'effdate',\n",
    "            f'fips{i}': 'fips',\n",
    "        }\n",
    "    )\n",
    "\n",
    "\n",
    "list_df_all_areas = [\n",
    "    df_all_states[list_dict_col_names[i].keys()].rename(\n",
    "        columns=list_dict_col_names[i]\n",
    "    ) for i in range(10)\n",
    "]\n",
    "\n",
    "df_all_areas = (\n",
    "    pd.concat(list_df_all_areas)\n",
    "        .sort_values('effdate', kind='stable')\n",
    "        .sort_index(kind='stable')\n",
    ")"
   ]
  },
  {
   "cell_type": "code",
   "execution_count": 40,
   "metadata": {},
   "outputs": [],
   "source": [
    "z4types = ('H', 'S', 'empty')\n",
    "\n",
    "df_all_areas_dropna = df_all_areas.dropna(subset='effdate')\n",
    "\n",
    "bi_all_dropped = ~(\n",
    "    df_all_areas_dropna['z4type'].isin(z4types)\n",
    "        .groupby([df_all_areas_dropna.index, df_all_areas_dropna['effdate']])\n",
    "        .transform('any')\n",
    ")\n",
    "\n",
    "df_all_areas_dropna.loc[bi_all_dropped, 'z4type'] = 'empty'\n",
    "df_all_areas_dropna.loc[bi_all_dropped, 'fips'] = \"\"\n",
    "\n",
    "df_filtered_areas = df_all_areas_dropna[\n",
    "    df_all_areas_dropna['z4type'].isin(z4types)\n",
    "]\n",
    "df_filtered_areas = (\n",
    "    df_filtered_areas.groupby([df_filtered_areas.index, 'effdate']).first()\n",
    ")\n",
    "df_filtered_areas = df_filtered_areas.reset_index('effdate')"
   ]
  },
  {
   "cell_type": "code",
   "execution_count": 44,
   "metadata": {},
   "outputs": [],
   "source": [
    "df_all_moves = df_filtered_areas[['effdate', 'fips']]\n",
    "df_all_moves = df_all_moves.rename(columns={'fips': 'destfips'})\n",
    "df_all_moves['origfips'] = (\n",
    "    df_all_moves.groupby(df_all_moves.index)['destfips']\n",
    "    .shift(fill_value=\"first record\")\n",
    ")"
   ]
  }
 ],
 "metadata": {
  "kernelspec": {
   "display_name": "Python 3.10.5 ('infutor-research-jupyterlab': venv)",
   "language": "python",
   "name": "python3"
  },
  "language_info": {
   "codemirror_mode": {
    "name": "ipython",
    "version": 3
   },
   "file_extension": ".py",
   "mimetype": "text/x-python",
   "name": "python",
   "nbconvert_exporter": "python",
   "pygments_lexer": "ipython3",
   "version": "3.10.5"
  },
  "orig_nbformat": 4,
  "vscode": {
   "interpreter": {
    "hash": "b170992dff1a2d7a7d34a8e195c66b869f5a2c2d367c7625363ea5e606f09977"
   }
  }
 },
 "nbformat": 4,
 "nbformat_minor": 2
}
