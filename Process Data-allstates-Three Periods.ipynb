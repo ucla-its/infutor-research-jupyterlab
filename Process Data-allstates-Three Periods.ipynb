{
 "cells": [
  {
   "cell_type": "code",
   "execution_count": 2,
   "metadata": {},
   "outputs": [],
   "source": [
    "import csv\n",
    "from datetime import datetime\n",
    "import pandas as pd"
   ]
  },
  {
   "cell_type": "code",
   "execution_count": null,
   "metadata": {},
   "outputs": [],
   "source": [
    "def period_assign(row):\n",
    "    if row[\"effdate\"] >= 201301 and row[\"effdate\"] < 201801:\n",
    "        val = 2\n",
    "    elif row[\"effdate\"] >= 200801 and row[\"effdate\"] < 201301:\n",
    "        val = 1\n",
    "    elif row[\"effdate\"] >= 200301 and row[\"effdate\"] < 200801:\n",
    "        val = -1\n",
    "    else:\n",
    "        val = 0\n",
    "    return val"
   ]
  },
  {
   "cell_type": "code",
   "execution_count": null,
   "metadata": {},
   "outputs": [],
   "source": [
    "z4types = [\"S\", \"H\", \"R\"]\n",
    "long_moves = pd.DataFrame()\n",
    "\n",
    "status_file = \"status_allmoves.txt\"\n",
    "source_file = \"data/all_states.csv\"\n",
    "\n",
    "print_line_every = 500\n",
    "start_line = 1\n",
    "process_records = 27408937\n",
    "end_line = start_line + process_records\n",
    "\n",
    "with open(status_file) as f:\n",
    "    last_status_line = int(f.read())\n",
    "resume_from_status = input(f\"Type Yes to resume from last line processed in \"\n",
    "                           f\"{status_file} which is: {last_status_line:,}\\n\")\n",
    "if resume_from_status == \"Yes\":\n",
    "    start_line = last_status_line + 1\n",
    "\n",
    "with open(source_file, \"r\") as object:\n",
    "    line_count = start_line\n",
    "    process_start = datetime.now()\n",
    "    csv_file = csv.reader(object)\n",
    "    \n",
    "    for row in csv_file:\n",
    "        df = pd.DataFrame({\"address_observation\": [x + 1 for x in range(10)],\n",
    "                           \"pid\": [row[0] for _ in range(10)],\n",
    "                           \"idate\": [row[4] for _ in range(10)],\n",
    "                           \"odate\": [row[5] for _ in range(10)],\n",
    "                           \"z4type\": [row[9*x + 13] for x in range(10)],\n",
    "                           \"effdate\": [row[9*x + 14] for x in range(10)],\n",
    "                           \"fips\": [row[4*x + 99] for x in range(10)]})\n",
    "\n",
    "        df = df[df.fips != \"\"]\n",
    "        df = df[df[\"z4type\"].isin(z4types)]\n",
    "\n",
    "        df[\"effdate\"] = pd.to_numeric(df[\"effdate\"])\n",
    "        df[\"idate\"] = pd.to_numeric(df[\"idate\"])\n",
    "        df[\"period\"] = \"\"\n",
    "        df[\"period\"] = df.apply(period_assign, axis=1, result_type=\"reduce\")\n",
    "        df[\"seentime\"] = abs(df[\"odate\"] - df[\"idate\"])\n",
    "\n",
    "        df.sort_values(by=[\"effdate\"], ascending=True, inplace=True)\n",
    "        df[\"originfips\"] = df.fips.shift(1, fill_value=\"first record\")\n",
    "        df[\"prev_effdate\"] = df.effdate.shift(1).astype(str)\n",
    "\n",
    "        df.drop_duplicates(subset=[\"effdate\"])\n",
    "        df.dropna(axis=0, subset=[\"originfips\"], how=\"any\", inplace=True)\n",
    "        long_moves = long_moves.append(df)\n",
    "\n",
    "        line_count += 1\n",
    "        if line_count % print_line_every == 0:\n",
    "            long_moves.to_csv(path_or_buf=\"data/allstates.csv\",\n",
    "                              mode=\"a\", header=False, index=False)\n",
    "            long_moves.drop(long_moves.index, inplace=True)\n",
    "\n",
    "            process_duration = datetime.now() - process_start\n",
    "            rate = print_line_every / (process_duration.total_seconds()/60)\n",
    "            estimated_completion = (end_line - line_count) / rate\n",
    "            print(f\"Finished: {line_count}, PID: {row[0]} at \"\n",
    "                  f\"{datetime.now().time()} | rate: {rate:.1f} per min. | this \"\n",
    "                  f\"batch complete: {estimated_completion:.1f} min\")\n",
    "            \n",
    "            process_start = datetime.now()\n",
    "\n",
    "            with open(status_file, \"w\") as writer:\n",
    "                writer.write(str(line_count))"
   ]
  }
 ],
 "metadata": {
  "kernelspec": {
   "display_name": "Python 3.10.5 ('infurtor-research-jupyterlab': venv)",
   "language": "python",
   "name": "python3"
  },
  "language_info": {
   "codemirror_mode": {
    "name": "ipython",
    "version": 3
   },
   "file_extension": ".py",
   "mimetype": "text/x-python",
   "name": "python",
   "nbconvert_exporter": "python",
   "pygments_lexer": "ipython3",
   "version": "3.10.5"
  },
  "orig_nbformat": 4,
  "vscode": {
   "interpreter": {
    "hash": "a77361b07232e0bd80f7352fad3d3d69f7a7cfca5d6aa921e73d6bf130259095"
   }
  }
 },
 "nbformat": 4,
 "nbformat_minor": 2
}
